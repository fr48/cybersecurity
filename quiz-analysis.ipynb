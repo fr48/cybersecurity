{
 "cells": [
  {
   "cell_type": "markdown",
   "metadata": {},
   "source": [
    "# Americans' View of Cybersecurity\n",
    "\n",
    "American consumers don't trust the organizations--government or companies--to keep information about them safe, and they also think that data collection is inevitable. However, there is some contradiction. Not only do Americans not trust government and companies to protect their data online from thieves, but they don't do a very good job with protecting their data, either.\n",
    "\n",
    "1. Most Americans have been affected by a data breach, and the type of incidents they have been affected by.\n",
    "\n",
    "2. Perception of what they trust, or don't trust.\n",
    "\n",
    "3. Common security measures they should be using/not using (passwords, device lock, etc)\n",
    "\n",
    "4. Do consumers punish companies after a breach (measured by stock price). Could be small multiples?\n",
    "\n",
    "I looked at how Americans handle their own data protection by analyzing the dataset that was published by Pew Research on how well people know about online security and whether or not they actually do those things. The analysis compares different groups and what their security habits were."
   ]
  },
  {
   "cell_type": "code",
   "execution_count": 1,
   "metadata": {},
   "outputs": [],
   "source": [
    "#import statements\n",
    "import pandas as pd\n",
    "import re\n",
    "import numpy as np\n",
    "from scipy.stats import ttest_ind\n",
    "import matplotlib.pyplot as plt\n",
    "import seaborn as sns"
   ]
  },
  {
   "cell_type": "code",
   "execution_count": 2,
   "metadata": {},
   "outputs": [
    {
     "data": {
      "text/plain": [
       "(1055, 39)"
      ]
     },
     "execution_count": 2,
     "metadata": {},
     "output_type": "execute_result"
    }
   ],
   "source": [
    "#open quiz data files\n",
    "quiz = pd.read_csv(\"data/cybersecurity.csv\")\n",
    "quiz.shape"
   ]
  },
  {
   "cell_type": "code",
   "execution_count": 3,
   "metadata": {
    "scrolled": true
   },
   "outputs": [
    {
     "data": {
      "text/html": [
       "<div>\n",
       "<style scoped>\n",
       "    .dataframe tbody tr th:only-of-type {\n",
       "        vertical-align: middle;\n",
       "    }\n",
       "\n",
       "    .dataframe tbody tr th {\n",
       "        vertical-align: top;\n",
       "    }\n",
       "\n",
       "    .dataframe thead th {\n",
       "        text-align: right;\n",
       "    }\n",
       "</style>\n",
       "<table border=\"1\" class=\"dataframe\">\n",
       "  <thead>\n",
       "    <tr style=\"text-align: right;\">\n",
       "      <th></th>\n",
       "      <th>CaseID</th>\n",
       "      <th>weight</th>\n",
       "      <th>XSPANISH</th>\n",
       "      <th>INTERNET</th>\n",
       "      <th>Q1</th>\n",
       "      <th>Q2_A</th>\n",
       "      <th>Q2_B</th>\n",
       "      <th>Q2_C</th>\n",
       "      <th>Q2_D</th>\n",
       "      <th>Q2_E</th>\n",
       "      <th>...</th>\n",
       "      <th>SMART1</th>\n",
       "      <th>SNSINT2</th>\n",
       "      <th>PPAGE</th>\n",
       "      <th>PPEDUCAT</th>\n",
       "      <th>PPETHM</th>\n",
       "      <th>PPGENDER</th>\n",
       "      <th>PPINCIMP</th>\n",
       "      <th>PPMSACAT</th>\n",
       "      <th>PPSTATEN</th>\n",
       "      <th>PPWORK</th>\n",
       "    </tr>\n",
       "  </thead>\n",
       "  <tbody>\n",
       "    <tr>\n",
       "      <td>0</td>\n",
       "      <td>3</td>\n",
       "      <td>1.1998</td>\n",
       "      <td>2</td>\n",
       "      <td>1</td>\n",
       "      <td>1</td>\n",
       "      <td>0</td>\n",
       "      <td>0</td>\n",
       "      <td>0</td>\n",
       "      <td>0</td>\n",
       "      <td>1</td>\n",
       "      <td>...</td>\n",
       "      <td>2</td>\n",
       "      <td>1</td>\n",
       "      <td>63</td>\n",
       "      <td>1</td>\n",
       "      <td>4</td>\n",
       "      <td>2</td>\n",
       "      <td>5</td>\n",
       "      <td>1</td>\n",
       "      <td>59</td>\n",
       "      <td>7</td>\n",
       "    </tr>\n",
       "    <tr>\n",
       "      <td>1</td>\n",
       "      <td>4</td>\n",
       "      <td>1.5196</td>\n",
       "      <td>2</td>\n",
       "      <td>1</td>\n",
       "      <td>6</td>\n",
       "      <td>0</td>\n",
       "      <td>0</td>\n",
       "      <td>1</td>\n",
       "      <td>0</td>\n",
       "      <td>0</td>\n",
       "      <td>...</td>\n",
       "      <td>1</td>\n",
       "      <td>1</td>\n",
       "      <td>47</td>\n",
       "      <td>2</td>\n",
       "      <td>4</td>\n",
       "      <td>2</td>\n",
       "      <td>1</td>\n",
       "      <td>1</td>\n",
       "      <td>59</td>\n",
       "      <td>7</td>\n",
       "    </tr>\n",
       "    <tr>\n",
       "      <td>2</td>\n",
       "      <td>5</td>\n",
       "      <td>1.2142</td>\n",
       "      <td>1</td>\n",
       "      <td>1</td>\n",
       "      <td>2</td>\n",
       "      <td>0</td>\n",
       "      <td>0</td>\n",
       "      <td>0</td>\n",
       "      <td>1</td>\n",
       "      <td>0</td>\n",
       "      <td>...</td>\n",
       "      <td>1</td>\n",
       "      <td>1</td>\n",
       "      <td>70</td>\n",
       "      <td>1</td>\n",
       "      <td>4</td>\n",
       "      <td>1</td>\n",
       "      <td>13</td>\n",
       "      <td>1</td>\n",
       "      <td>33</td>\n",
       "      <td>5</td>\n",
       "    </tr>\n",
       "    <tr>\n",
       "      <td>3</td>\n",
       "      <td>6</td>\n",
       "      <td>1.1868</td>\n",
       "      <td>1</td>\n",
       "      <td>1</td>\n",
       "      <td>6</td>\n",
       "      <td>0</td>\n",
       "      <td>0</td>\n",
       "      <td>0</td>\n",
       "      <td>1</td>\n",
       "      <td>0</td>\n",
       "      <td>...</td>\n",
       "      <td>1</td>\n",
       "      <td>2</td>\n",
       "      <td>60</td>\n",
       "      <td>1</td>\n",
       "      <td>3</td>\n",
       "      <td>1</td>\n",
       "      <td>5</td>\n",
       "      <td>1</td>\n",
       "      <td>93</td>\n",
       "      <td>6</td>\n",
       "    </tr>\n",
       "    <tr>\n",
       "      <td>4</td>\n",
       "      <td>7</td>\n",
       "      <td>2.6632</td>\n",
       "      <td>1</td>\n",
       "      <td>1</td>\n",
       "      <td>6</td>\n",
       "      <td>0</td>\n",
       "      <td>0</td>\n",
       "      <td>0</td>\n",
       "      <td>0</td>\n",
       "      <td>1</td>\n",
       "      <td>...</td>\n",
       "      <td>1</td>\n",
       "      <td>2</td>\n",
       "      <td>31</td>\n",
       "      <td>1</td>\n",
       "      <td>4</td>\n",
       "      <td>2</td>\n",
       "      <td>15</td>\n",
       "      <td>0</td>\n",
       "      <td>85</td>\n",
       "      <td>7</td>\n",
       "    </tr>\n",
       "  </tbody>\n",
       "</table>\n",
       "<p>5 rows × 39 columns</p>\n",
       "</div>"
      ],
      "text/plain": [
       "   CaseID  weight  XSPANISH  INTERNET  Q1  Q2_A  Q2_B  Q2_C  Q2_D  Q2_E  ...  \\\n",
       "0       3  1.1998         2         1   1     0     0     0     0     1  ...   \n",
       "1       4  1.5196         2         1   6     0     0     1     0     0  ...   \n",
       "2       5  1.2142         1         1   2     0     0     0     1     0  ...   \n",
       "3       6  1.1868         1         1   6     0     0     0     1     0  ...   \n",
       "4       7  2.6632         1         1   6     0     0     0     0     1  ...   \n",
       "\n",
       "   SMART1  SNSINT2  PPAGE  PPEDUCAT  PPETHM  PPGENDER  PPINCIMP  PPMSACAT  \\\n",
       "0       2        1     63         1       4         2         5         1   \n",
       "1       1        1     47         2       4         2         1         1   \n",
       "2       1        1     70         1       4         1        13         1   \n",
       "3       1        2     60         1       3         1         5         1   \n",
       "4       1        2     31         1       4         2        15         0   \n",
       "\n",
       "   PPSTATEN  PPWORK  \n",
       "0        59       7  \n",
       "1        59       7  \n",
       "2        33       5  \n",
       "3        93       6  \n",
       "4        85       7  \n",
       "\n",
       "[5 rows x 39 columns]"
      ]
     },
     "execution_count": 3,
     "metadata": {},
     "output_type": "execute_result"
    }
   ],
   "source": [
    "quiz.head()"
   ]
  },
  {
   "cell_type": "code",
   "execution_count": 4,
   "metadata": {},
   "outputs": [],
   "source": [
    "quiz = quiz.rename(columns={\"Q1\": \"https\", \n",
    "                   \"Q2_A\": \"phish_a\",\n",
    "                   'Q2_B': \"phish_b\",\n",
    "                   'Q2_C':\"phish_c\", \n",
    "                   'Q2_D':\"phish_d\", \n",
    "                   'Q2_E':\"phish_e\", \n",
    "                   'Q2_Refused':\"phish_0\", \n",
    "                   'Q3':\"botnet\", \n",
    "                   'Q4':\"wifi\", \n",
    "                   'Q5_A':\"tfa_a\", \n",
    "                   'Q5_B':\"tfa_b\",\n",
    "                   'Q5_C':\"tfa_c\", \n",
    "                   'Q5_D':\"tfa_d\", \n",
    "                   'Q5_E':\"tfa_e\", \n",
    "                   'Q5_F':\"tfa_f\", \n",
    "                   'Q5_Refused':\"tfa_0\", \n",
    "                   'Q7':\"ransomware\", \n",
    "                   'Q9':\"incognito\", \n",
    "                   'Q10':\"tracking\", \n",
    "                   'Q11':\"email\",\n",
    "                   'Q12':\"creditreport\", \n",
    "                   'Q13':\"secure\", \n",
    "                   'Q14':\"vpn\", \n",
    "                   'SNSINT2':\"socmedia\", \n",
    "                   'PPAGE':\"age\",\n",
    "                   'PPEDUCAT':\"education\", \n",
    "                   'PPETHM':\"ethnicity\", \n",
    "                   'PPGENDER':\"gender\", \n",
    "                   'PPINCIMP':\"income\", \n",
    "                   'PPSTATEN':\"state\",\n",
    "                   'PPWORK':\"employment\",\n",
    "                            'PPMSACAT':\"msa\"\n",
    "                            \n",
    "                  })"
   ]
  },
  {
   "cell_type": "markdown",
   "metadata": {},
   "source": [
    "http://www.thearda.com/Archive/Files/Codebooks/MORALITY_CB.asp\n",
    "    259) Education (Categorical) (PPEDUCAT)\n",
    "TOTAL\t%\n",
    "1) Less than high school\t194\t12.8\n",
    "2) High school\t459\t30.2\n",
    "3) Some college\t437\t28.8\n",
    "4) Bachelor's degree or higher\t430\t28.3\n",
    "TOTAL\t1520\t100.0\n",
    "[ Analyze results | Add to Question Bank | View Question Bank ]\n",
    "260) Race/Ethnicity (PPETHM)\n",
    "TOTAL\t%\n",
    "1) White, Non-Hispanic\t1015\t66.8\n",
    "2) Black, Non-Hispanic\t175\t11.5\n",
    "3) Other, Non-Hispanic\t87\t5.7\n",
    "4) Hispanic\t222\t14.6\n",
    "5) 2+ Races, Non-Hispanic\t20\t1.3\n",
    "TOTAL\t1519\t100.0\n",
    "71) State (PPSTATEN)\n",
    "TOTAL\t%\n",
    "11) ME\t9\t.6\n",
    "12) NH\t5\t.3\n",
    "13) VT\t4\t.3\n",
    "14) MA\t40\t2.6\n",
    "15) RI\t0\t0\n",
    "16) CT\t18\t1.2\n",
    "21) NY\t93\t6.1\n",
    "22) NJ\t40\t2.6\n",
    "23) PA\t69\t4.5\n",
    "31) OH\t56\t3.7\n",
    "32) IN\t28\t1.8\n",
    "33) IL\t53\t3.5\n",
    "34) MI\t42\t2.8\n",
    "35) WI\t32\t2.1\n",
    "41) MN\t23\t1.5\n",
    "42) IA\t16\t1.1\n",
    "43) MO\t41\t2.7\n",
    "44) ND\t3\t.2\n",
    "45) SD\t8\t.5\n",
    "46) NE\t9\t.6\n",
    "47) KS\t15\t1\n",
    "51) DE\t3\t.2\n",
    "52) MD\t27\t1.8\n",
    "53) DC\t2\t.1\n",
    "54) VA\t43\t2.8\n",
    "55) WV\t10\t.7\n",
    "56) NC\t47\t3.1\n",
    "57) SC\t25\t1.6\n",
    "58) GA\t51\t3.4\n",
    "59) FL\t113\t7.4\n",
    "61) KY\t26\t1.7\n",
    "62) TN\t23\t1.5\n",
    "63) AL\t18\t1.2\n",
    "64) MS\t4\t.3\n",
    "71) AR\t15\t1\n",
    "72) LA\t18\t1.2\n",
    "73) OK\t25\t1.6\n",
    "74) TX\t113\t7.4\n",
    "81) MT\t8\t.5\n",
    "82) ID\t3\t.2\n",
    "83) WY\t3\t.2\n",
    "84) CO\t26\t1.7\n",
    "85) NM\t2\t.1\n",
    "86) AZ\t38\t2.5\n",
    "87) UT\t4\t.3\n",
    "88) NV\t34\t2.2\n",
    "91) WA\t51\t3.4\n",
    "92) OR\t18\t1.2\n",
    "93) CA\t155\t10.2\n",
    "94) AK\t2\t.1\n",
    "95) HI\t7\t.5\n",
    " Current Employee Status (PPWORK)\n",
    "TOTAL\t%\n",
    "1) Working – as a paid employee\t706\t46.5\n",
    "2) Working – self-employee\t118\t7.8\n",
    "3) Not working – on temporary layoff from job\t14\t.9\n",
    "4) Not working – looking for work\t149\t9.8\n",
    "5) Not working - retired\t271\t17.8\n",
    "6) Not working - disabled\t115\t7.6\n",
    "7) Not working – other\n",
    "MSA Status (PPMSACAT)\n",
    "TOTAL\t%\n",
    "0) Non-metro\t242\t15.9\n",
    "1) Metro\t1277\t84.1"
   ]
  },
  {
   "cell_type": "code",
   "execution_count": 5,
   "metadata": {},
   "outputs": [],
   "source": [
    "#collapse phish questions\n",
    "quiz['phish']=0\n",
    "quiz.loc[quiz['phish_a'] == 1, 'phish'] = 1\n",
    "quiz.loc[quiz['phish_b'] == 1, 'phish'] = 2\n",
    "quiz.loc[quiz['phish_c'] == 1, 'phish'] = 3\n",
    "quiz.loc[quiz['phish_d'] == 1, 'phish'] = 4\n",
    "quiz.loc[quiz['phish_e'] == 1, 'phish'] = 5\n",
    "quiz.loc[quiz['phish_0'] == 1, 'phish'] = 0"
   ]
  },
  {
   "cell_type": "code",
   "execution_count": 6,
   "metadata": {},
   "outputs": [],
   "source": [
    "#collapse 2fa questions\n",
    "quiz['tfa']=0\n",
    "quiz.loc[quiz['tfa_a'] == 1, 'tfa'] = 1\n",
    "quiz.loc[quiz['tfa_b'] == 1, 'tfa'] = 2\n",
    "quiz.loc[quiz['tfa_c'] == 1, 'tfa'] = 3\n",
    "quiz.loc[quiz['tfa_d'] == 1, 'tfa'] = 4\n",
    "quiz.loc[quiz['tfa_e'] == 1, 'tfa'] = 5\n",
    "quiz.loc[quiz['tfa_0'] == 1, 'tfa'] = 0"
   ]
  },
  {
   "cell_type": "code",
   "execution_count": 7,
   "metadata": {},
   "outputs": [],
   "source": [
    "#calculate quiz results \n",
    "quiz['score'] = 0\n",
    "quiz.loc[quiz['https'] ==2,'score']=quiz.score+1 \n",
    "quiz.loc[quiz['phish'] ==4,'score']=quiz.score+1\n",
    "quiz.loc[quiz['botnet'] ==1, 'score']=quiz.score+1\n",
    "quiz.loc[quiz['wifi'] ==2,'score']=quiz.score+1\n",
    "quiz.loc[quiz['tfa'] ==1,'score']=quiz.score+1\n",
    "quiz.loc[quiz['ransomware'] ==2,'score']=quiz.score+1\n",
    "quiz.loc[quiz['incognito'] ==1,'score']=quiz.score+1\n",
    "quiz.loc[quiz['tracking'] ==2,'score']=quiz.score+1\n",
    "quiz.loc[quiz['email'] ==2,'score']=quiz.score+1\n",
    "quiz.loc[quiz['creditreport'] ==1,'score']=quiz.score+1\n",
    "quiz.loc[quiz['secure'] ==2,'score']=quiz.score+1\n",
    "quiz.loc[quiz['vpn'] ==1,'score']=quiz.score+1\n",
    "quiz.score = quiz.score/12*100"
   ]
  },
  {
   "cell_type": "code",
   "execution_count": 8,
   "metadata": {},
   "outputs": [],
   "source": [
    "#group total score by gender\n",
    "#men 1,women 2\n",
    "men = pd.DataFrame(quiz.loc[quiz.gender==1, 'score'])\n",
    "women = pd.DataFrame(quiz.loc[quiz.gender==2, 'score'])"
   ]
  },
  {
   "cell_type": "code",
   "execution_count": 9,
   "metadata": {},
   "outputs": [
    {
     "data": {
      "text/html": [
       "<div>\n",
       "<style scoped>\n",
       "    .dataframe tbody tr th:only-of-type {\n",
       "        vertical-align: middle;\n",
       "    }\n",
       "\n",
       "    .dataframe tbody tr th {\n",
       "        vertical-align: top;\n",
       "    }\n",
       "\n",
       "    .dataframe thead th {\n",
       "        text-align: right;\n",
       "    }\n",
       "</style>\n",
       "<table border=\"1\" class=\"dataframe\">\n",
       "  <thead>\n",
       "    <tr style=\"text-align: right;\">\n",
       "      <th></th>\n",
       "      <th>women</th>\n",
       "      <th>men</th>\n",
       "    </tr>\n",
       "    <tr>\n",
       "      <th>unique_values</th>\n",
       "      <th></th>\n",
       "      <th></th>\n",
       "    </tr>\n",
       "  </thead>\n",
       "  <tbody>\n",
       "    <tr>\n",
       "      <td>0.000000</td>\n",
       "      <td>36</td>\n",
       "      <td>23</td>\n",
       "    </tr>\n",
       "    <tr>\n",
       "      <td>8.333333</td>\n",
       "      <td>47</td>\n",
       "      <td>29</td>\n",
       "    </tr>\n",
       "    <tr>\n",
       "      <td>16.666667</td>\n",
       "      <td>76</td>\n",
       "      <td>37</td>\n",
       "    </tr>\n",
       "    <tr>\n",
       "      <td>25.000000</td>\n",
       "      <td>84</td>\n",
       "      <td>48</td>\n",
       "    </tr>\n",
       "    <tr>\n",
       "      <td>33.333333</td>\n",
       "      <td>80</td>\n",
       "      <td>57</td>\n",
       "    </tr>\n",
       "    <tr>\n",
       "      <td>41.666667</td>\n",
       "      <td>60</td>\n",
       "      <td>52</td>\n",
       "    </tr>\n",
       "    <tr>\n",
       "      <td>50.000000</td>\n",
       "      <td>56</td>\n",
       "      <td>55</td>\n",
       "    </tr>\n",
       "    <tr>\n",
       "      <td>58.333333</td>\n",
       "      <td>51</td>\n",
       "      <td>39</td>\n",
       "    </tr>\n",
       "    <tr>\n",
       "      <td>66.666667</td>\n",
       "      <td>41</td>\n",
       "      <td>49</td>\n",
       "    </tr>\n",
       "    <tr>\n",
       "      <td>75.000000</td>\n",
       "      <td>20</td>\n",
       "      <td>40</td>\n",
       "    </tr>\n",
       "    <tr>\n",
       "      <td>83.333333</td>\n",
       "      <td>9</td>\n",
       "      <td>36</td>\n",
       "    </tr>\n",
       "    <tr>\n",
       "      <td>91.666667</td>\n",
       "      <td>4</td>\n",
       "      <td>19</td>\n",
       "    </tr>\n",
       "    <tr>\n",
       "      <td>100.000000</td>\n",
       "      <td>4</td>\n",
       "      <td>3</td>\n",
       "    </tr>\n",
       "  </tbody>\n",
       "</table>\n",
       "</div>"
      ],
      "text/plain": [
       "               women  men\n",
       "unique_values            \n",
       "0.000000          36   23\n",
       "8.333333          47   29\n",
       "16.666667         76   37\n",
       "25.000000         84   48\n",
       "33.333333         80   57\n",
       "41.666667         60   52\n",
       "50.000000         56   55\n",
       "58.333333         51   39\n",
       "66.666667         41   49\n",
       "75.000000         20   40\n",
       "83.333333          9   36\n",
       "91.666667          4   19\n",
       "100.000000         4    3"
      ]
     },
     "execution_count": 9,
     "metadata": {},
     "output_type": "execute_result"
    }
   ],
   "source": [
    "# women tended to score worse on the test\n",
    "g_men = men.score.value_counts().rename_axis('unique_values').to_frame('men')\n",
    "g_women = women.score.value_counts().rename_axis('unique_values').to_frame('women')\n",
    "scores =  pd.concat([g_women, g_men], axis=1)\n",
    "scores"
   ]
  },
  {
   "cell_type": "code",
   "execution_count": 10,
   "metadata": {},
   "outputs": [
    {
     "data": {
      "text/plain": [
       "gender\n",
       "1    46.115674\n",
       "2    36.003521\n",
       "Name: score, dtype: float64"
      ]
     },
     "execution_count": 10,
     "metadata": {},
     "output_type": "execute_result"
    }
   ],
   "source": [
    "# the typical user scored less than half right \n",
    "# men didn't do *that* much better\n",
    "# using median gives 41.6 for men and 33.33 for women\n",
    "quiz.groupby('gender').score.mean()"
   ]
  },
  {
   "cell_type": "code",
   "execution_count": 11,
   "metadata": {},
   "outputs": [
    {
     "data": {
      "image/png": "[encoded data removed]",
      "text/plain": [
       "<Figure size 432x288 with 1 Axes>"
      ]
     },
     "metadata": {
      "needs_background": "light"
     },
     "output_type": "display_data"
    }
   ],
   "source": [
    "#scores by gender\n",
    "plt.style.use('seaborn-deep')\n",
    "bins = np.linspace(0,100)\n",
    "plt.hist([men.to_numpy(), women.to_numpy()], bins, label=['men', 'women'])\n",
    "plt.legend(loc='upper right')\n",
    "plt.show()"
   ]
  },
  {
   "cell_type": "code",
   "execution_count": 12,
   "metadata": {},
   "outputs": [
    {
     "data": {
      "text/plain": [
       "Text(0, 0.5, 'Frequency')"
      ]
     },
     "execution_count": 12,
     "metadata": {},
     "output_type": "execute_result"
    },
    {
     "data": {
      "image/png": "[encoded data removed]",
      "text/plain": [
       "<Figure size 432x288 with 1 Axes>"
      ]
     },
     "metadata": {
      "needs_background": "light"
     },
     "output_type": "display_data"
    }
   ],
   "source": [
    "#different way to chart\n",
    "sns.distplot(women['score'], kde=False, bins=13,  label='women')\n",
    "sns.distplot(men['score'],  kde=False, bins=13, label='men')\n",
    "plt.legend(prop={'size': 12})\n",
    "plt.title('Scores by Gender')\n",
    "plt.xlabel('Quiz Scores')\n",
    "plt.xlim(0,100)\n",
    "plt.ylabel('Frequency')"
   ]
  },
  {
   "cell_type": "code",
   "execution_count": 13,
   "metadata": {},
   "outputs": [
    {
     "data": {
      "text/plain": [
       "16    159\n",
       "13    102\n",
       "15     85\n",
       "12     85\n",
       "17     67\n",
       "14     67\n",
       "11     66\n",
       "19     65\n",
       "9      48\n",
       "10     46\n",
       "18     46\n",
       "8      44\n",
       "7      40\n",
       "4      31\n",
       "6      29\n",
       "5      26\n",
       "1      24\n",
       "2      15\n",
       "3      10\n",
       "Name: income, dtype: int64"
      ]
     },
     "execution_count": 13,
     "metadata": {},
     "output_type": "execute_result"
    },
    {
     "data": {
      "image/png": "[encoded data removed]",
      "text/plain": [
       "<Figure size 432x288 with 1 Axes>"
      ]
     },
     "metadata": {
      "needs_background": "light"
     },
     "output_type": "display_data"
    }
   ],
   "source": [
    "#income\n",
    "#1) Less than $5,000\t39\t2.6\n",
    "#2) $5,000 to $7,499\t21\t1.4\n",
    "#3) $7,500 to $9,999\t17\t1.1\n",
    "#4) $10,000 to $12,499\t47\t3.1\n",
    "#5) $12,500 to $14,999\t39\t2.6\n",
    "#6) $15,000 to $19,999\t62\t4.1\n",
    "#7) $20,000 to $24,999\t71\t4.7\n",
    "#8) $25,000 to $29,999\t64\t4.2\n",
    "#9) $30,000 to $34,999\t83\t5.5\n",
    "#10) $35,000 to $39,999\t86\t5.7\n",
    "#11) $40,000 to $49,999\t118\t7.8\n",
    "#12) $50,000 to $59,999\t152\t10\n",
    "#13) $60,000 to $74,999\t137\t9\n",
    "#14) $75,000 to $84,999\t112\t7.4\n",
    "#15) $85,000 to $99,999\t114\t7.5\n",
    "#16) $100,000 to $124,999\t163\t10.7\n",
    "#17) $125,000 to $149,999\t88\t5.8\n",
    "#18) $150,000 to $174,999\t47\t3.1\n",
    "#19) $175,000 or more\t60\t3.9\n",
    "\n",
    "bins = np.linspace(0,20)\n",
    "quiz.hist(column='income',bins=19)\n",
    "\n",
    "# median income is 13, the biggest number is for 16\n",
    "quiz.income.value_counts()\n",
    "#quiz.income.median()"
   ]
  },
  {
   "cell_type": "code",
   "execution_count": 14,
   "metadata": {},
   "outputs": [
    {
     "data": {
      "text/plain": [
       "income\n",
       "1     22.222222\n",
       "2     27.777778\n",
       "3     19.166667\n",
       "4     29.569892\n",
       "5     31.410256\n",
       "6     23.563218\n",
       "7     36.250000\n",
       "8     34.659091\n",
       "9     31.770833\n",
       "10    32.065217\n",
       "11    33.459596\n",
       "12    39.803922\n",
       "13    42.892157\n",
       "14    42.786070\n",
       "15    42.941176\n",
       "16    47.222222\n",
       "17    53.855721\n",
       "18    51.086957\n",
       "19    52.692308\n",
       "Name: score, dtype: float64"
      ]
     },
     "execution_count": 14,
     "metadata": {},
     "output_type": "execute_result"
    }
   ],
   "source": [
    "# lower income, lower test scores\n",
    "quiz.groupby('income').score.mean()"
   ]
  },
  {
   "cell_type": "code",
   "execution_count": 15,
   "metadata": {},
   "outputs": [
    {
     "data": {
      "text/plain": [
       "4    369\n",
       "3    306\n",
       "2    291\n",
       "1     89\n",
       "Name: education, dtype: int64"
      ]
     },
     "execution_count": 15,
     "metadata": {},
     "output_type": "execute_result"
    },
    {
     "data": {
      "image/png": "[encoded data removed]",
      "text/plain": [
       "<Figure size 432x288 with 1 Axes>"
      ]
     },
     "metadata": {
      "needs_background": "light"
     },
     "output_type": "display_data"
    }
   ],
   "source": [
    "bins = np.linspace(0,4)\n",
    "quiz.hist(column='education',bins=4)\n",
    "\n",
    "#most at 4,median is 3\n",
    "quiz.education.value_counts()\n",
    "#quiz.education.median()"
   ]
  },
  {
   "cell_type": "code",
   "execution_count": 16,
   "metadata": {},
   "outputs": [
    {
     "data": {
      "text/plain": [
       "education\n",
       "1    25.000000\n",
       "2    25.000000\n",
       "3    41.666667\n",
       "4    50.000000\n",
       "Name: score, dtype: float64"
      ]
     },
     "execution_count": 16,
     "metadata": {},
     "output_type": "execute_result"
    }
   ],
   "source": [
    "#lower education lower quiz\n",
    "quiz.groupby('education').score.median()"
   ]
  },
  {
   "cell_type": "code",
   "execution_count": 33,
   "metadata": {},
   "outputs": [
    {
     "data": {
      "text/plain": [
       "Text(0, 0.5, 'Frequency')"
      ]
     },
     "execution_count": 33,
     "metadata": {},
     "output_type": "execute_result"
    },
    {
     "data": {
      "image/png": "[encoded data removed]",
      "text/plain": [
       "<Figure size 432x288 with 1 Axes>"
      ]
     },
     "metadata": {
      "needs_background": "light"
     },
     "output_type": "display_data"
    }
   ],
   "source": [
    "# you shouldn't need a college degree to know security\n",
    "less = pd.DataFrame(quiz.loc[quiz.education==1])\n",
    "hs = pd.DataFrame(quiz.loc[quiz.education==2])\n",
    "some = pd.DataFrame(quiz.loc[quiz.education==3])\n",
    "coll = pd.DataFrame(quiz.loc[quiz.education==4])\n",
    "#similar distribution but lower frequency, so whites aren't necessarily better\n",
    "sns.distplot(less['score'], kde=False, bins=10, label='1')\n",
    "sns.distplot(hs['score'], kde=False, bins=10, label='2')\n",
    "sns.distplot(some['score'], kde=False, bins=10, label='3')\n",
    "sns.distplot(coll['score'], kde=False, bins=10, label='4',color = 'yellow')\n",
    "plt.legend(prop={'size': 12})\n",
    "plt.title('Scores by Education')\n",
    "plt.xlabel('Quiz Scores')\n",
    "plt.xlim(0,100)\n",
    "plt.ylabel('Frequency')"
   ]
  },
  {
   "cell_type": "code",
   "execution_count": 17,
   "metadata": {},
   "outputs": [
    {
     "data": {
      "text/plain": [
       "1    761\n",
       "4    123\n",
       "2     91\n",
       "3     48\n",
       "5     32\n",
       "Name: ethnicity, dtype: int64"
      ]
     },
     "execution_count": 17,
     "metadata": {},
     "output_type": "execute_result"
    },
    {
     "data": {
      "image/png": "[encoded data removed]",
      "text/plain": [
       "<Figure size 432x288 with 1 Axes>"
      ]
     },
     "metadata": {
      "needs_background": "light"
     },
     "output_type": "display_data"
    }
   ],
   "source": [
    "#predominantly white\n",
    "bins = np.linspace(0,20)\n",
    "quiz.hist(column='ethnicity',bins=5)\n",
    "\n",
    "#most at 1,median is 1\n",
    "quiz.ethnicity.value_counts()\n",
    "#quiz.ethnicity.median()"
   ]
  },
  {
   "cell_type": "code",
   "execution_count": 18,
   "metadata": {},
   "outputs": [
    {
     "data": {
      "text/html": [
       "<div>\n",
       "<style scoped>\n",
       "    .dataframe tbody tr th:only-of-type {\n",
       "        vertical-align: middle;\n",
       "    }\n",
       "\n",
       "    .dataframe tbody tr th {\n",
       "        vertical-align: top;\n",
       "    }\n",
       "\n",
       "    .dataframe thead th {\n",
       "        text-align: right;\n",
       "    }\n",
       "</style>\n",
       "<table border=\"1\" class=\"dataframe\">\n",
       "  <thead>\n",
       "    <tr style=\"text-align: right;\">\n",
       "      <th></th>\n",
       "      <th>white</th>\n",
       "      <th>poc</th>\n",
       "    </tr>\n",
       "    <tr>\n",
       "      <th>unique_values</th>\n",
       "      <th></th>\n",
       "      <th></th>\n",
       "    </tr>\n",
       "  </thead>\n",
       "  <tbody>\n",
       "    <tr>\n",
       "      <td>0.000000</td>\n",
       "      <td>43</td>\n",
       "      <td>36</td>\n",
       "    </tr>\n",
       "    <tr>\n",
       "      <td>8.333333</td>\n",
       "      <td>53</td>\n",
       "      <td>47</td>\n",
       "    </tr>\n",
       "    <tr>\n",
       "      <td>16.666667</td>\n",
       "      <td>70</td>\n",
       "      <td>76</td>\n",
       "    </tr>\n",
       "    <tr>\n",
       "      <td>25.000000</td>\n",
       "      <td>80</td>\n",
       "      <td>84</td>\n",
       "    </tr>\n",
       "    <tr>\n",
       "      <td>33.333333</td>\n",
       "      <td>101</td>\n",
       "      <td>80</td>\n",
       "    </tr>\n",
       "    <tr>\n",
       "      <td>41.666667</td>\n",
       "      <td>82</td>\n",
       "      <td>60</td>\n",
       "    </tr>\n",
       "    <tr>\n",
       "      <td>50.000000</td>\n",
       "      <td>80</td>\n",
       "      <td>56</td>\n",
       "    </tr>\n",
       "    <tr>\n",
       "      <td>58.333333</td>\n",
       "      <td>72</td>\n",
       "      <td>51</td>\n",
       "    </tr>\n",
       "    <tr>\n",
       "      <td>66.666667</td>\n",
       "      <td>72</td>\n",
       "      <td>41</td>\n",
       "    </tr>\n",
       "    <tr>\n",
       "      <td>75.000000</td>\n",
       "      <td>47</td>\n",
       "      <td>20</td>\n",
       "    </tr>\n",
       "    <tr>\n",
       "      <td>83.333333</td>\n",
       "      <td>35</td>\n",
       "      <td>9</td>\n",
       "    </tr>\n",
       "    <tr>\n",
       "      <td>91.666667</td>\n",
       "      <td>19</td>\n",
       "      <td>4</td>\n",
       "    </tr>\n",
       "    <tr>\n",
       "      <td>100.000000</td>\n",
       "      <td>7</td>\n",
       "      <td>4</td>\n",
       "    </tr>\n",
       "  </tbody>\n",
       "</table>\n",
       "</div>"
      ],
      "text/plain": [
       "               white  poc\n",
       "unique_values            \n",
       "0.000000          43   36\n",
       "8.333333          53   47\n",
       "16.666667         70   76\n",
       "25.000000         80   84\n",
       "33.333333        101   80\n",
       "41.666667         82   60\n",
       "50.000000         80   56\n",
       "58.333333         72   51\n",
       "66.666667         72   41\n",
       "75.000000         47   20\n",
       "83.333333         35    9\n",
       "91.666667         19    4\n",
       "100.000000         7    4"
      ]
     },
     "execution_count": 18,
     "metadata": {},
     "output_type": "execute_result"
    }
   ],
   "source": [
    "#group total score by race\n",
    "white = pd.DataFrame(quiz.loc[quiz.ethnicity==1, 'score'])\n",
    "poc = pd.DataFrame(quiz.loc[quiz.gender>1, 'score'])# women tended to score worse on the test\n",
    "g_w = white.score.value_counts().rename_axis('unique_values').to_frame('white')\n",
    "g_p = poc.score.value_counts().rename_axis('unique_values').to_frame('poc')\n",
    "race =  pd.concat([g_w, g_p], axis=1)\n",
    "race"
   ]
  },
  {
   "cell_type": "code",
   "execution_count": 19,
   "metadata": {},
   "outputs": [
    {
     "data": {
      "text/plain": [
       "Text(0, 0.5, 'Frequency')"
      ]
     },
     "execution_count": 19,
     "metadata": {},
     "output_type": "execute_result"
    },
    {
     "data": {
      "image/png": "[encoded data removed]",
      "text/plain": [
       "<Figure size 432x288 with 1 Axes>"
      ]
     },
     "metadata": {
      "needs_background": "light"
     },
     "output_type": "display_data"
    }
   ],
   "source": [
    "#similar distribution but lower frequency, so whites aren't necessarily better\n",
    "sns.distplot(white['score'], kde=False, bins=13,  label='white')\n",
    "sns.distplot(poc['score'],  kde=False, bins=13, label='poc')\n",
    "plt.legend(prop={'size': 12})\n",
    "plt.title('Scores by Ethnicity')\n",
    "plt.xlabel('Quiz Scores')\n",
    "plt.xlim(0,100)\n",
    "plt.ylabel('Frequency')"
   ]
  },
  {
   "cell_type": "code",
   "execution_count": null,
   "metadata": {},
   "outputs": [],
   "source": [
    "#run regressions to find significance"
   ]
  },
  {
   "cell_type": "code",
   "execution_count": null,
   "metadata": {},
   "outputs": [],
   "source": []
  },
  {
   "cell_type": "code",
   "execution_count": null,
   "metadata": {},
   "outputs": [],
   "source": []
  },
  {
   "cell_type": "code",
   "execution_count": null,
   "metadata": {},
   "outputs": [],
   "source": []
  },
  {
   "cell_type": "code",
   "execution_count": null,
   "metadata": {},
   "outputs": [],
   "source": []
  }
 ],
 "metadata": {
  "kernelspec": {
   "display_name": "Python 3",
   "language": "python",
   "name": "python3"
  },
  "language_info": {
   "codemirror_mode": {
    "name": "ipython",
    "version": 3
   },
   "file_extension": ".py",
   "mimetype": "text/x-python",
   "name": "python",
   "nbconvert_exporter": "python",
   "pygments_lexer": "ipython3",
   "version": "3.7.3"
  }
 },
 "nbformat": 4,
 "nbformat_minor": 2
}
